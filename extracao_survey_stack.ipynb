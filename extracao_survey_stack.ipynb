{
  "nbformat": 4,
  "nbformat_minor": 0,
  "metadata": {
    "colab": {
      "provenance": [],
      "authorship_tag": "ABX9TyMsHRaaiD1hJ6B1BzoVwoEl",
      "include_colab_link": true
    },
    "kernelspec": {
      "name": "python3",
      "display_name": "Python 3"
    },
    "language_info": {
      "name": "python"
    }
  },
  "cells": [
    {
      "cell_type": "markdown",
      "metadata": {
        "id": "view-in-github",
        "colab_type": "text"
      },
      "source": [
        "<a href=\"https://colab.research.google.com/github/CaioSoares-V8/Analise_Survey_Stack_Overflow/blob/main/extracao_survey_stack.ipynb\" target=\"_parent\"><img src=\"https://colab.research.google.com/assets/colab-badge.svg\" alt=\"Open In Colab\"/></a>"
      ]
    },
    {
      "cell_type": "markdown",
      "source": [
        "Importando Bibliotecas"
      ],
      "metadata": {
        "id": "qeEDrWbLrdhy"
      }
    },
    {
      "cell_type": "code",
      "execution_count": null,
      "metadata": {
        "id": "3uxmw5ScqzhN"
      },
      "outputs": [],
      "source": [
        "import pandas as pd"
      ]
    },
    {
      "cell_type": "markdown",
      "source": [
        "Extraindo os arquivos"
      ],
      "metadata": {
        "id": "idDo3OcRrhNO"
      }
    },
    {
      "cell_type": "code",
      "source": [
        "schema = pd.read_csv('survey_results_schema.csv')\n",
        "dados = pd.read_csv('survey_results_public.csv')"
      ],
      "metadata": {
        "id": "__NVkAz3q-ef"
      },
      "execution_count": null,
      "outputs": []
    },
    {
      "cell_type": "markdown",
      "source": [
        "Selecionando as colunas"
      ],
      "metadata": {
        "id": "lCMuE2lXrkcK"
      }
    },
    {
      "cell_type": "code",
      "source": [
        "dados_tratados = dados[['ResponseId', 'MainBranch', 'Age', 'Employment',\n",
        "                        'YearsCodePro', 'DevType', 'Country','AISearchDevHaveWorkedWith',\n",
        "                        'AISearchDevWantToWorkWith', 'AISearchDevAdmired', 'AISelect', 'AISent',\n",
        "                        'AIBen', 'AIAcc', 'AIComplex', 'AIThreat', 'ProfessionalQuestion', 'Industry', 'JobSat']]"
      ],
      "metadata": {
        "id": "UFGPj4E7rHzo"
      },
      "execution_count": null,
      "outputs": []
    },
    {
      "cell_type": "markdown",
      "source": [
        "Removendo dados nulos"
      ],
      "metadata": {
        "id": "8O7lIf_Prscf"
      }
    },
    {
      "cell_type": "code",
      "source": [
        "dados_tratados = dados_tratados.dropna(subset=['AISearchDevHaveWorkedWith', 'AISearchDevWantToWorkWith', 'AISearchDevAdmired'])"
      ],
      "metadata": {
        "id": "lhqdh0hqrnuN"
      },
      "execution_count": null,
      "outputs": []
    },
    {
      "cell_type": "markdown",
      "source": [
        "Fragmentando colunas"
      ],
      "metadata": {
        "id": "mB_PMc6LsIPb"
      }
    },
    {
      "cell_type": "code",
      "source": [
        "AI_search = dados_tratados[['AISearchDevHaveWorkedWith', 'AISearchDevWantToWorkWith', 'AISearchDevAdmired']]\n"
      ],
      "metadata": {
        "id": "6cM76IHyrvSU"
      },
      "execution_count": null,
      "outputs": []
    },
    {
      "cell_type": "code",
      "source": [
        "have_worked_ia = AI_search['AISearchDevHaveWorkedWith'].str.get_dummies(';')\n",
        "want_to_work_ia = AI_search['AISearchDevWantToWorkWith'].str.get_dummies(';')\n",
        "admired_ia = AI_search['AISearchDevAdmired'].str.get_dummies(';')"
      ],
      "metadata": {
        "id": "yrle2RMrrygm"
      },
      "execution_count": null,
      "outputs": []
    },
    {
      "cell_type": "code",
      "source": [
        "have_worked_ia.to_csv('have_worked_ia.csv', index=False)\n",
        "want_to_work_ia.to_csv('want_to_work_ia.csv', index=False)\n",
        "admired_ia.to_csv('admired_ia.csv', index=False)\n"
      ],
      "metadata": {
        "id": "XRyP_igivXfJ"
      },
      "execution_count": null,
      "outputs": []
    },
    {
      "cell_type": "code",
      "source": [
        "dados = pd.concat([dados_tratados, have_worked_ia], axis=1)"
      ],
      "metadata": {
        "id": "VCsMj1mErzac"
      },
      "execution_count": null,
      "outputs": []
    },
    {
      "cell_type": "code",
      "source": [
        "dados.to_csv('survey_data.csv', index=False)"
      ],
      "metadata": {
        "id": "6sVhcdBcuCZ4"
      },
      "execution_count": 39,
      "outputs": []
    },
    {
      "cell_type": "code",
      "source": [],
      "metadata": {
        "id": "_oElBXw6xKCq"
      },
      "execution_count": null,
      "outputs": []
    }
  ]
}