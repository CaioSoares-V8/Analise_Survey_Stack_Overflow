{
  "cells": [
    {
      "cell_type": "markdown",
      "metadata": {
        "colab_type": "text",
        "id": "view-in-github"
      },
      "source": [
        "<a href=\"https://colab.research.google.com/github/CaioSoares-V8/Analise_Survey_Stack_Overflow/blob/main/extracao_survey_stack.ipynb\" target=\"_parent\"><img src=\"https://colab.research.google.com/assets/colab-badge.svg\" alt=\"Open In Colab\"/></a>"
      ]
    },
    {
      "cell_type": "markdown",
      "metadata": {
        "id": "qeEDrWbLrdhy"
      },
      "source": [
        "Importando Bibliotecas"
      ]
    },
    {
      "cell_type": "code",
      "execution_count": null,
      "metadata": {
        "id": "3uxmw5ScqzhN"
      },
      "outputs": [
        {
          "ename": "",
          "evalue": "",
          "output_type": "error",
          "traceback": [
            "\u001b[1;31mRunning cells with 'venv (Python 3.12.5)' requires the ipykernel package.\n",
            "\u001b[1;31mRun the following command to install 'ipykernel' into the Python environment. \n",
            "\u001b[1;31mCommand: '\"c:/Users/LowCost/Desktop/Analise Survey/Analise_Survey_Stack_Overflow/venv/Scripts/python.exe\" -m pip install ipykernel -U --force-reinstall'"
          ]
        }
      ],
      "source": [
        "import pandas as pd"
      ]
    },
    {
      "cell_type": "markdown",
      "metadata": {
        "id": "idDo3OcRrhNO"
      },
      "source": [
        "Extraindo os arquivos"
      ]
    },
    {
      "cell_type": "code",
      "execution_count": null,
      "metadata": {
        "id": "__NVkAz3q-ef"
      },
      "outputs": [],
      "source": [
        "schema = pd.read_csv('survey_results_schema.csv')\n",
        "dados = pd.read_csv('survey_results_public.csv')"
      ]
    },
    {
      "cell_type": "markdown",
      "metadata": {
        "id": "lCMuE2lXrkcK"
      },
      "source": [
        "Selecionando as colunas"
      ]
    },
    {
      "cell_type": "code",
      "execution_count": null,
      "metadata": {
        "id": "UFGPj4E7rHzo"
      },
      "outputs": [],
      "source": [
        "dados_tratados = dados[['ResponseId', 'MainBranch', 'Age', 'Employment',\n",
        "                        'YearsCodePro', 'DevType', 'Country','AISearchDevHaveWorkedWith',\n",
        "                        'AISearchDevWantToWorkWith', 'AISearchDevAdmired', 'AISelect', 'AISent',\n",
        "                        'AIBen', 'AIAcc', 'AIComplex', 'AIThreat', 'ProfessionalQuestion', 'Industry', 'JobSat']]"
      ]
    },
    {
      "cell_type": "markdown",
      "metadata": {
        "id": "8O7lIf_Prscf"
      },
      "source": [
        "Removendo dados nulos"
      ]
    },
    {
      "cell_type": "code",
      "execution_count": null,
      "metadata": {
        "id": "lhqdh0hqrnuN"
      },
      "outputs": [],
      "source": [
        "dados_tratados = dados_tratados.dropna(subset=['AISearchDevHaveWorkedWith', 'AISearchDevWantToWorkWith', 'AISearchDevAdmired'])"
      ]
    },
    {
      "cell_type": "markdown",
      "metadata": {
        "id": "mB_PMc6LsIPb"
      },
      "source": [
        "Fragmentando colunas"
      ]
    },
    {
      "cell_type": "code",
      "execution_count": null,
      "metadata": {
        "id": "6cM76IHyrvSU"
      },
      "outputs": [],
      "source": [
        "AI_search = dados_tratados[['AISearchDevHaveWorkedWith', 'AISearchDevWantToWorkWith', 'AISearchDevAdmired']]\n"
      ]
    },
    {
      "cell_type": "code",
      "execution_count": null,
      "metadata": {
        "id": "yrle2RMrrygm"
      },
      "outputs": [],
      "source": [
        "have_worked_ia = AI_search['AISearchDevHaveWorkedWith'].str.get_dummies(';')\n",
        "want_to_work_ia = AI_search['AISearchDevWantToWorkWith'].str.get_dummies(';')\n",
        "admired_ia = AI_search['AISearchDevAdmired'].str.get_dummies(';')"
      ]
    },
    {
      "cell_type": "code",
      "execution_count": null,
      "metadata": {
        "id": "XRyP_igivXfJ"
      },
      "outputs": [],
      "source": [
        "have_worked_ia.to_csv('have_worked_ia.csv', index=False)\n",
        "want_to_work_ia.to_csv('want_to_work_ia.csv', index=False)\n",
        "admired_ia.to_csv('admired_ia.csv', index=False)\n"
      ]
    },
    {
      "cell_type": "code",
      "execution_count": null,
      "metadata": {
        "id": "VCsMj1mErzac"
      },
      "outputs": [],
      "source": [
        "dados = pd.concat([dados_tratados, have_worked_ia], axis=1)"
      ]
    },
    {
      "cell_type": "code",
      "execution_count": 39,
      "metadata": {
        "id": "6sVhcdBcuCZ4"
      },
      "outputs": [],
      "source": [
        "dados.to_csv('survey_data.csv', index=False)"
      ]
    },
    {
      "cell_type": "code",
      "execution_count": null,
      "metadata": {
        "id": "_oElBXw6xKCq"
      },
      "outputs": [],
      "source": []
    }
  ],
  "metadata": {
    "colab": {
      "authorship_tag": "ABX9TyMsHRaaiD1hJ6B1BzoVwoEl",
      "include_colab_link": true,
      "provenance": []
    },
    "kernelspec": {
      "display_name": "venv",
      "language": "python",
      "name": "python3"
    },
    "language_info": {
      "name": "python",
      "version": "3.12.5"
    }
  },
  "nbformat": 4,
  "nbformat_minor": 0
}
